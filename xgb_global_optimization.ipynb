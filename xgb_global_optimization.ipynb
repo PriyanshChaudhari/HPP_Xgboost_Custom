{
 "cells": [
  {
   "cell_type": "code",
   "id": "initial_id",
   "metadata": {
    "collapsed": true,
    "ExecuteTime": {
     "end_time": "2025-04-06T17:07:37.794945Z",
     "start_time": "2025-04-06T17:07:37.769584Z"
    }
   },
   "source": [
    "import numpy as np\n",
    "\n",
    "from custom_tree.decision_tree_global_optimization import GlobalOptimizationDecisionTreeRegressor\n",
    "\n",
    "\n",
    "class CustomXGBoostWithGlobalTree:\n",
    "\n",
    "    def __init__(self, n_estimators=100, learning_rate=0.1, max_depth=3, min_samples_split=10,\n",
    "                 min_impurity_decrease=1e-7):\n",
    "        self.n_estimators = n_estimators\n",
    "        self.learning_rate = learning_rate\n",
    "        self.max_depth = max_depth\n",
    "        self.min_samples_split = min_samples_split\n",
    "        self.min_impurity_decrease = min_impurity_decrease\n",
    "        self.trees = []\n",
    "        self.init_val = 0\n",
    "\n",
    "    def fit(self, X, y):\n",
    "        X = np.nan_to_num(X, nan=np.nanmean(X))\n",
    "\n",
    "        y = np.nan_to_num(y, nan=np.nanmean(y))\n",
    "\n",
    "        self.init_val = np.mean(y)\n",
    "        # y_pred = np.full_like(y, self.init_val)\n",
    "        y_pred = np.full_like(y, self.init_val, dtype=np.float64)\n",
    "\n",
    "\n",
    "        for _ in range(self.n_estimators):\n",
    "            residual = y - y_pred\n",
    "            tree = GlobalOptimizationDecisionTreeRegressor(\n",
    "                max_depth=self.max_depth,\n",
    "                min_samples_split=self.min_samples_split,\n",
    "                min_impurity_decrease=self.min_impurity_decrease\n",
    "            )\n",
    "            tree.fit(X, residual)\n",
    "            update = tree.predict(X)\n",
    "            y_pred += self.learning_rate * update\n",
    "            self.trees.append(tree)\n",
    "\n",
    "    def predict(self, X):\n",
    "        X = np.nan_to_num(X, nan=np.nanmean(X))\n",
    "        y_pred = np.full((X.shape[0],), self.init_val)\n",
    "        for tree in self.trees:\n",
    "            y_pred += self.learning_rate * tree.predict(X)\n",
    "        return y_pred\n"
   ],
   "outputs": [
    {
     "name": "stdout",
     "output_type": "stream",
     "text": [
      "Writing xgboost_global_optimization_split.py\n"
     ]
    }
   ],
   "execution_count": 1
  },
  {
   "metadata": {
    "ExecuteTime": {
     "end_time": "2025-04-06T17:07:39.182887Z",
     "start_time": "2025-04-06T17:07:37.797020Z"
    }
   },
   "cell_type": "code",
   "source": [
    "import pandas as pd\n",
    "from sklearn.metrics import r2_score\n",
    "\n",
    "df_train = pd.read_csv(\"data/ames.csv\")\n",
    "df_test = pd.read_csv(\"data/unseen_ames.csv\")\n",
    "\n",
    "df_train = df_train.apply(pd.to_numeric, errors='coerce').dropna(axis=1, how='all')\n",
    "df_test = df_test.apply(pd.to_numeric, errors='coerce').dropna(axis=1, how='all')\n",
    "\n",
    "y_train = df_train[\"SalePrice\"].values\n",
    "X_train = df_train.drop(columns=[\"SalePrice\"]).values\n",
    "\n",
    "y_test = df_test[\"SalePrice\"].values\n",
    "X_test = df_test.drop(columns=[\"SalePrice\"]).values\n",
    "\n",
    "model = CustomXGBoostWithGlobalTree(\n",
    "    n_estimators=10,\n",
    "    learning_rate=0.1,\n",
    "    max_depth=3,\n",
    "    min_samples_split=5,\n",
    "    min_impurity_decrease=1e-7\n",
    ")\n",
    "\n",
    "model.fit(X_train, y_train)\n",
    "\n",
    "y_train_pred = model.predict(X_train)\n",
    "y_test_pred = model.predict(X_test)\n",
    "\n",
    "train_mse = np.mean((y_train - y_train_pred) ** 2)\n",
    "test_mse = np.mean((y_test - y_test_pred) ** 2)\n",
    "train_rmse = np.sqrt(train_mse)\n",
    "test_rmse = np.sqrt(test_mse)\n",
    "train_r2 = r2_score(y_train, y_train_pred)\n",
    "test_r2 = r2_score(y_test, y_test_pred)\n",
    "\n",
    "print(\"Train RMSE:\", train_rmse)\n",
    "print(\"Test RMSE:\", test_rmse)\n",
    "print(\"Train R²:\", train_r2)\n",
    "print(\"Test R²:\", test_r2)\n"
   ],
   "id": "950d6be6ab469380",
   "outputs": [
    {
     "ename": "NameError",
     "evalue": "name 'CustomXGBoostWithGlobalTree' is not defined",
     "output_type": "error",
     "traceback": [
      "\u001B[1;31m---------------------------------------------------------------------------\u001B[0m",
      "\u001B[1;31mNameError\u001B[0m                                 Traceback (most recent call last)",
      "Cell \u001B[1;32mIn[2], line 16\u001B[0m\n\u001B[0;32m     13\u001B[0m y_test \u001B[38;5;241m=\u001B[39m df_test[\u001B[38;5;124m\"\u001B[39m\u001B[38;5;124mSalePrice\u001B[39m\u001B[38;5;124m\"\u001B[39m]\u001B[38;5;241m.\u001B[39mvalues\n\u001B[0;32m     14\u001B[0m X_test \u001B[38;5;241m=\u001B[39m df_test\u001B[38;5;241m.\u001B[39mdrop(columns\u001B[38;5;241m=\u001B[39m[\u001B[38;5;124m\"\u001B[39m\u001B[38;5;124mSalePrice\u001B[39m\u001B[38;5;124m\"\u001B[39m])\u001B[38;5;241m.\u001B[39mvalues\n\u001B[1;32m---> 16\u001B[0m model \u001B[38;5;241m=\u001B[39m \u001B[43mCustomXGBoostWithGlobalTree\u001B[49m(\n\u001B[0;32m     17\u001B[0m     n_estimators\u001B[38;5;241m=\u001B[39m\u001B[38;5;241m10\u001B[39m,\n\u001B[0;32m     18\u001B[0m     learning_rate\u001B[38;5;241m=\u001B[39m\u001B[38;5;241m0.1\u001B[39m,\n\u001B[0;32m     19\u001B[0m     max_depth\u001B[38;5;241m=\u001B[39m\u001B[38;5;241m3\u001B[39m,\n\u001B[0;32m     20\u001B[0m     min_samples_split\u001B[38;5;241m=\u001B[39m\u001B[38;5;241m5\u001B[39m,\n\u001B[0;32m     21\u001B[0m     min_impurity_decrease\u001B[38;5;241m=\u001B[39m\u001B[38;5;241m1e-7\u001B[39m\n\u001B[0;32m     22\u001B[0m )\n\u001B[0;32m     24\u001B[0m model\u001B[38;5;241m.\u001B[39mfit(X_train, y_train)\n\u001B[0;32m     26\u001B[0m y_train_pred \u001B[38;5;241m=\u001B[39m model\u001B[38;5;241m.\u001B[39mpredict(X_train)\n",
      "\u001B[1;31mNameError\u001B[0m: name 'CustomXGBoostWithGlobalTree' is not defined"
     ]
    }
   ],
   "execution_count": 2
  }
 ],
 "metadata": {
  "kernelspec": {
   "display_name": "Python 3",
   "language": "python",
   "name": "python3"
  },
  "language_info": {
   "codemirror_mode": {
    "name": "ipython",
    "version": 2
   },
   "file_extension": ".py",
   "mimetype": "text/x-python",
   "name": "python",
   "nbconvert_exporter": "python",
   "pygments_lexer": "ipython2",
   "version": "2.7.6"
  }
 },
 "nbformat": 4,
 "nbformat_minor": 5
}
