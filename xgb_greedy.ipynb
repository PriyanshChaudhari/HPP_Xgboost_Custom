{
 "cells": [
  {
   "metadata": {},
   "cell_type": "code",
   "source": [
    "import pandas as pd\n",
    "import numpy as np\n",
    "from custom_xgoost.xgboost_greedy_split import CustomXGBoostRegressor\n",
    "from sklearn.metrics import r2_score\n",
    "\n",
    "df_train = pd.read_csv(\"data/ames.csv\")\n",
    "df_test = pd.read_csv(\"data/unseen_ames.csv\")\n",
    "\n",
    "df_train = df_train.apply(pd.to_numeric, errors='coerce').dropna(axis=1, how='all')\n",
    "df_test = df_test.apply(pd.to_numeric, errors='coerce').dropna(axis=1, how='all')\n",
    "\n",
    "y_train = df_train[\"SalePrice\"].values\n",
    "X_train = df_train.drop(columns=[\"SalePrice\"]).values\n",
    "\n",
    "y_test = df_test[\"SalePrice\"].values\n",
    "X_test = df_test.drop(columns=[\"SalePrice\"]).values\n",
    "\n",
    "xgb = CustomXGBoostRegressor(n_estimators=100, learning_rate=0.1, max_depth=3)\n",
    "xgb.fit(X_train, y_train)\n",
    "\n",
    "y_train_pred = xgb.predict(X_train)\n",
    "y_test_pred = xgb.predict(X_test)\n",
    "\n",
    "train_mse = np.mean((y_train - y_train_pred) ** 2)\n",
    "test_mse = np.mean((y_test - y_test_pred) ** 2)\n",
    "train_rmse = np.sqrt(train_mse)\n",
    "test_rmse = np.sqrt(test_mse)\n",
    "train_r2 = r2_score(y_train, y_train_pred)\n",
    "test_r2 = r2_score(y_test, y_test_pred)\n",
    "\n",
    "print(\"Train MSE:\", train_mse)\n",
    "print(\"Test MSE:\", test_mse)\n",
    "print()\n",
    "print(\"Train RMSE:\", train_rmse)\n",
    "print(\"Test RMSE:\", test_rmse)\n",
    "print()\n",
    "print(\"Train R²:\", train_r2)\n",
    "print(\"Test R²:\", test_r2)\n"
   ],
   "id": "d9585535ab4e8bda",
   "outputs": [],
   "execution_count": null
  }
 ],
 "metadata": {
  "kernelspec": {
   "display_name": "Python 3",
   "language": "python",
   "name": "python3"
  },
  "language_info": {
   "codemirror_mode": {
    "name": "ipython",
    "version": 2
   },
   "file_extension": ".py",
   "mimetype": "text/x-python",
   "name": "python",
   "nbconvert_exporter": "python",
   "pygments_lexer": "ipython2",
   "version": "2.7.6"
  }
 },
 "nbformat": 4,
 "nbformat_minor": 5
}
