{
 "cells": [
  {
   "cell_type": "code",
   "id": "initial_id",
   "metadata": {
    "collapsed": true
   },
   "source": [
    "import numpy as np\n",
    "\n",
    "from custom_tree.decision_tree_greedy_split import DecisionTreeRegressor\n",
    "\n",
    "\n",
    "class CustomXGBoostRegressor:\n",
    "\n",
    "    def __init__(self, n_estimators=100, learning_rate=0.1, max_depth=3, min_samples_split=2, n_splits=10):\n",
    "        self.n_estimators = n_estimators\n",
    "        self.learning_rate = learning_rate\n",
    "        self.max_depth = max_depth\n",
    "        self.min_samples_split = min_samples_split\n",
    "        self.n_splits = n_splits\n",
    "        self.trees = []\n",
    "        self.init_val = 0\n",
    "\n",
    "    def fit(self, X, y):\n",
    "        self.init_val = np.mean(y)\n",
    "        y_pred = np.full(y.shape, self.init_val)\n",
    "\n",
    "        for _ in range(self.n_estimators):\n",
    "            residual = y - y_pred\n",
    "            tree = DecisionTreeRegressor(\n",
    "                max_depth=self.max_depth,\n",
    "                min_samples_split=self.min_samples_split,\n",
    "                n_splits=self.n_splits\n",
    "            )\n",
    "            tree.fit(X, residual)\n",
    "            update = tree.predict(X)\n",
    "            y_pred += self.learning_rate * update\n",
    "            self.trees.append(tree)\n",
    "\n",
    "    def predict(self, X):\n",
    "        y_pred = np.full((X.shape[0],), self.init_val)\n",
    "        for tree in self.trees:\n",
    "            y_pred += self.learning_rate * tree.predict(X)\n",
    "        return y_pred\n"
   ],
   "outputs": [],
   "execution_count": null
  },
  {
   "metadata": {},
   "cell_type": "code",
   "source": [
    "import pandas as pd\n",
    "from sklearn.metrics import r2_score\n",
    "\n",
    "df_train = pd.read_csv(\"data/ames.csv\")\n",
    "df_test = pd.read_csv(\"data/unseen_ames.csv\")\n",
    "\n",
    "df_train = df_train.apply(pd.to_numeric, errors='coerce').dropna(axis=1, how='all')\n",
    "df_test = df_test.apply(pd.to_numeric, errors='coerce').dropna(axis=1, how='all')\n",
    "\n",
    "y_train = df_train[\"SalePrice\"].values\n",
    "X_train = df_train.drop(columns=[\"SalePrice\"]).values\n",
    "\n",
    "y_test = df_test[\"SalePrice\"].values\n",
    "X_test = df_test.drop(columns=[\"SalePrice\"]).values\n",
    "\n",
    "xgb = CustomXGBoostRegressor(n_estimators=100, learning_rate=0.1, max_depth=3)\n",
    "xgb.fit(X_train, y_train)\n",
    "\n",
    "y_train_pred = xgb.predict(X_train)\n",
    "y_test_pred = xgb.predict(X_test)\n",
    "\n",
    "train_mse = np.mean((y_train - y_train_pred) ** 2)\n",
    "test_mse = np.mean((y_test - y_test_pred) ** 2)\n",
    "train_rmse = np.sqrt(train_mse)\n",
    "test_rmse = np.sqrt(test_mse)\n",
    "train_r2 = r2_score(y_train, y_train_pred)\n",
    "test_r2 = r2_score(y_test, y_test_pred)\n",
    "\n",
    "print(\"Train MSE:\", train_mse)\n",
    "print(\"Test MSE:\", test_mse)\n",
    "print()\n",
    "print(\"Train RMSE:\", train_rmse)\n",
    "print(\"Test RMSE:\", test_rmse)\n",
    "print()\n",
    "print(\"Train R²:\", train_r2)\n",
    "print(\"Test R²:\", test_r2)\n"
   ],
   "id": "d9585535ab4e8bda",
   "outputs": [],
   "execution_count": null
  }
 ],
 "metadata": {
  "kernelspec": {
   "display_name": "Python 3",
   "language": "python",
   "name": "python3"
  },
  "language_info": {
   "codemirror_mode": {
    "name": "ipython",
    "version": 2
   },
   "file_extension": ".py",
   "mimetype": "text/x-python",
   "name": "python",
   "nbconvert_exporter": "python",
   "pygments_lexer": "ipython2",
   "version": "2.7.6"
  }
 },
 "nbformat": 4,
 "nbformat_minor": 5
}
