{
 "cells": [
  {
   "metadata": {
    "ExecuteTime": {
     "end_time": "2025-04-10T17:19:23.366255Z",
     "start_time": "2025-04-10T17:19:23.235773Z"
    }
   },
   "cell_type": "code",
   "source": [
    "import pandas as pd\n",
    "import numpy as np\n",
    "from custom_xgoost.xgboost_rl_split import CustomXGBoostRL\n",
    "from sklearn.model_selection import train_test_split\n",
    "from sklearn.metrics import r2_score\n",
    "\n",
    "df = pd.read_csv(\"data/ames.csv\")\n",
    "df = df.apply(pd.to_numeric, errors='coerce').dropna(axis=1, how='all')\n",
    "\n",
    "y = df[\"SalePrice\"].values\n",
    "X = df.drop(columns=[\"SalePrice\"]).values\n",
    "\n",
    "X_train, X_test, y_train, y_test = train_test_split(X, y, test_size=0.2, random_state=42)\n",
    "\n",
    "n_features = X_train.shape[1]\n",
    "\n",
    "model = CustomXGBoostRL(\n",
    "    n_estimators=10,\n",
    "    learning_rate=0.1,\n",
    "    max_depth=3,\n",
    "    min_samples_split=5,\n",
    "    min_impurity_decrease=1e-7,\n",
    "    n_features=n_features,\n",
    "    policy_lr=1e-2\n",
    ")\n",
    "\n",
    "model.fit(X_train, y_train)\n",
    "\n",
    "y_train_pred = model.predict(X_train)\n",
    "y_test_pred = model.predict(X_test)\n",
    "\n",
    "train_mse = np.mean((y_train - y_train_pred) ** 2)\n",
    "test_mse = np.mean((y_test - y_test_pred) ** 2)\n",
    "train_rmse = np.sqrt(train_mse)\n",
    "test_rmse = np.sqrt(test_mse)\n",
    "train_r2 = r2_score(y_train, y_train_pred)\n",
    "test_r2 = r2_score(y_test, y_test_pred)\n",
    "\n",
    "print(\"Train MSE:\", train_mse)\n",
    "print(\"Test MSE:\", test_mse)\n",
    "print()\n",
    "print(\"Train RMSE:\", train_rmse)\n",
    "print(\"Test RMSE:\", test_rmse)\n",
    "print()\n",
    "print(\"Train R²:\", train_r2)\n",
    "print(\"Test R²:\", test_r2)\n"
   ],
   "id": "81f75a79c326bf63",
   "outputs": [
    {
     "name": "stdout",
     "output_type": "stream",
     "text": [
      "Train MSE: 5469720250.701607\n",
      "Test MSE: 5178573367.118362\n",
      "\n",
      "Train RMSE: 73957.55708987154\n",
      "Test RMSE: 71962.30518207683\n",
      "\n",
      "Train R²: 0.14382894760255271\n",
      "Test R²: 0.14605988026997718\n"
     ]
    }
   ],
   "execution_count": 28
  }
 ],
 "metadata": {
  "kernelspec": {
   "display_name": "Python 3",
   "language": "python",
   "name": "python3"
  },
  "language_info": {
   "codemirror_mode": {
    "name": "ipython",
    "version": 2
   },
   "file_extension": ".py",
   "mimetype": "text/x-python",
   "name": "python",
   "nbconvert_exporter": "python",
   "pygments_lexer": "ipython2",
   "version": "2.7.6"
  }
 },
 "nbformat": 4,
 "nbformat_minor": 5
}
