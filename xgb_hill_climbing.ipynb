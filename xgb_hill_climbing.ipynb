{
 "cells": [
  {
   "cell_type": "code",
   "id": "initial_id",
   "metadata": {
    "collapsed": true,
    "ExecuteTime": {
     "end_time": "2025-04-11T12:35:05.491481Z",
     "start_time": "2025-04-11T12:35:01.682571Z"
    }
   },
   "source": [
    "import pandas as pd\n",
    "import numpy as np\n",
    "from custom_xgoost.xgboost_hill_climbing import CustomXGBoostRegressor\n",
    "from sklearn.model_selection import train_test_split\n",
    "from sklearn.metrics import r2_score\n",
    "\n",
    "df = pd.read_csv(\"data/ames.csv\")\n",
    "df = df.apply(pd.to_numeric, errors='coerce').dropna(axis=1, how='all')\n",
    "\n",
    "y = df[\"SalePrice\"].values\n",
    "X = df.drop(columns=[\"SalePrice\"]).values\n",
    "\n",
    "X_train, X_test, y_train, y_test = train_test_split(X, y, test_size=0.2, random_state=42)\n",
    "\n",
    "xgb = CustomXGBoostRegressor(n_estimators=100, learning_rate=0.1, max_depth=3)\n",
    "xgb.fit(X_train, y_train)\n",
    "\n",
    "y_train_pred = xgb.predict(X_train)\n",
    "y_test_pred = xgb.predict(X_test)\n",
    "\n",
    "train_mse = np.mean((y_train - y_train_pred) ** 2)\n",
    "test_mse = np.mean((y_test - y_test_pred) ** 2)\n",
    "train_rmse = np.sqrt(train_mse)\n",
    "test_rmse = np.sqrt(test_mse)\n",
    "train_r2 = r2_score(y_train, y_train_pred)\n",
    "test_r2 = r2_score(y_test, y_test_pred)\n",
    "\n",
    "print(\"Train MSE:\", train_mse)\n",
    "print(\"Test MSE:\", test_mse)\n",
    "print()\n",
    "print(\"Train RMSE:\", train_rmse)\n",
    "print(\"Test RMSE:\", test_rmse)\n",
    "print()\n",
    "print(\"Train R²:\", train_r2)\n",
    "print(\"Test R²:\", test_r2)\n"
   ],
   "outputs": [
    {
     "name": "stdout",
     "output_type": "stream",
     "text": [
      "Train MSE: 590108528.6682771\n",
      "Test MSE: 744803106.2094823\n",
      "\n",
      "Train RMSE: 24292.149527538255\n",
      "Test RMSE: 27291.081074400154\n",
      "\n",
      "Train R²: 0.9076307714359211\n",
      "Test R²: 0.8771829211245235\n"
     ]
    }
   ],
   "execution_count": 1
  }
 ],
 "metadata": {
  "kernelspec": {
   "display_name": "Python 3",
   "language": "python",
   "name": "python3"
  },
  "language_info": {
   "codemirror_mode": {
    "name": "ipython",
    "version": 2
   },
   "file_extension": ".py",
   "mimetype": "text/x-python",
   "name": "python",
   "nbconvert_exporter": "python",
   "pygments_lexer": "ipython2",
   "version": "2.7.6"
  }
 },
 "nbformat": 4,
 "nbformat_minor": 5
}
